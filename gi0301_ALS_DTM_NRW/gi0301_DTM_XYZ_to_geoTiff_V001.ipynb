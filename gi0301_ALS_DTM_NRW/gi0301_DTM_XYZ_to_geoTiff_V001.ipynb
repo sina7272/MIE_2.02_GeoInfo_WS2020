{
 "cells": [
  {
   "cell_type": "markdown",
   "metadata": {},
   "source": [
    "# Geoprocessing in Python #\n",
    "\n",
    "The Federal State of Nordrhein-Westfalen (NRW, North Rhine-Westphalia) provides Digital Terrain Models (DTM) gained from Airborne Laser Scanning (ALS). One of the derived remote sensing products is an interpolated DTM on a regular grid with 1m² horizontal (x-y-plane) grid size (1m x 1m). \n",
    "\n",
    "The DTM data is dissected in regular square tiles with 2000 x 2000 grid cells each corresponding to 2000 m x 2000 m metric area. These tiles are organized according to the municipalities in NRW. All tiles touching a municipality are pooled in archive and compressed (zipped).\n",
    "\n",
    "But the chosen file format to store the tiles is strange. The original file format of each tile is a formatted text file with three columns for the x-y-z coordinates denoted as XYZ file format. Each row in the text file represents one grid point in space. Each cell is represented by its full x-y-coordinates in the chosen coordinate reference system (EPSG:4647) together with the interesting information: the elevation z. \n",
    "\n",
    "Since each tile is a square grid with 2000 x 2000 cells it is regular and it would be enough e.g. to store the lower left corner coordinates together with the organisation of the grid cells (e.g. 2000 rows, 2000 columns, rows stored firstly) and then the pure z-coordinates sequentially. The x-y-coordinates of each grid cell could be determined by counting the z-values in the file: z-value at position 0 is at lower left corner, z-value at position 3'999'999 is at upper right corner, z-value at 1999 is at lower right corner (depending on whether data is stored row-wise or column-wise). \n",
    "\n",
    "Sometimes the upper right corner is the reference point. It just has to be described how data is organized.\n",
    "\n",
    "geoTiff is a file format suited for handling regular geo-referenced grids.\n",
    "\n",
    "The following activity deals with the transfromation from xyz-format to geoTiff.\n",
    "\n",
    "But first the the bounding boxes of the available DTM tiles have to be determined to see which area they cover and whether they lie in the actual region of interest. \n",
    "\n",
    "\n"
   ]
  },
  {
   "cell_type": "markdown",
   "metadata": {},
   "source": [
    "### Prerequisites\n",
    "\n",
    "* Install the Anaconda3 Python distribution.\n",
    "* Open the Anaconda Prompt (bash-like terminal) and install the package gdal: `conda install gdal`"
   ]
  },
  {
   "cell_type": "code",
   "execution_count": 1,
   "metadata": {},
   "outputs": [],
   "source": [
    "import os, sys\n",
    "from osgeo import osr, ogr, gdal"
   ]
  },
  {
   "cell_type": "code",
   "execution_count": 2,
   "metadata": {},
   "outputs": [],
   "source": [
    "#help(osr)\n",
    "#help(ogr)\n",
    "#help(gdal)"
   ]
  },
  {
   "cell_type": "markdown",
   "metadata": {},
   "source": [
    "### Relative Path to Directory with the DTM XYZ-Files"
   ]
  },
  {
   "cell_type": "code",
   "execution_count": 14,
   "metadata": {},
   "outputs": [
    {
     "data": {
      "text/plain": [
       "'C:\\\\Users\\\\sinan\\\\Downloads\\\\Geo\\\\MIE_2.02_GeoInfo_WS2020\\\\gi0301_ALS_DTM_NRW'"
      ]
     },
     "execution_count": 14,
     "metadata": {},
     "output_type": "execute_result"
    }
   ],
   "source": [
    "# get the current working directory\n",
    "os.getcwd()"
   ]
  },
  {
   "cell_type": "code",
   "execution_count": 15,
   "metadata": {},
   "outputs": [],
   "source": [
    "#where the xyz files are\n",
    "dtm_xyz_dir = \"../data/original/DTM_Xanten/dgm1_05170052_Xanten_EPSG4647_XYZ/\"\n",
    "dest_dir = \"../data/derived/DTM_Xanten/\"\n",
    "dest_shapefile_name = \"dgm1_Xanten_BB_coverage.shp\" # shape file with bounding boxes, DGM: Digitales Geländemodell (de) <-> Digital Terrain Model (en)\n",
    "\n",
    "dest_geotiff_dir = dest_dir + \"geotiff/\" ## directory of geoTiff files \n",
    "\n",
    "os.makedirs(dest_dir, exist_ok = True)\n",
    "os.makedirs(dest_geotiff_dir, exist_ok = True)"
   ]
  },
  {
   "cell_type": "code",
   "execution_count": 16,
   "metadata": {},
   "outputs": [
    {
     "data": {
      "text/plain": [
       "['dgm1_32316_5730_2_nw.xyz',\n",
       " 'dgm1_32318_5724_2_nw.xyz',\n",
       " 'dgm1_32318_5726_2_nw.xyz',\n",
       " 'dgm1_32318_5728_2_nw.xyz',\n",
       " 'dgm1_32318_5730_2_nw.xyz',\n",
       " 'dgm1_32318_5732_2_nw.xyz',\n",
       " 'dgm1_32318_5734_2_nw.xyz',\n",
       " 'dgm1_32320_5722_2_nw.xyz',\n",
       " 'dgm1_32320_5724_2_nw.xyz',\n",
       " 'dgm1_32320_5726_2_nw.xyz',\n",
       " 'dgm1_32320_5728_2_nw.xyz',\n",
       " 'dgm1_32320_5730_2_nw.xyz',\n",
       " 'dgm1_32320_5732_2_nw.xyz',\n",
       " 'dgm1_32320_5734_2_nw.xyz',\n",
       " 'dgm1_32320_5736_2_nw.xyz',\n",
       " 'dgm1_32322_5722_2_nw.xyz',\n",
       " 'dgm1_32322_5724_2_nw.xyz',\n",
       " 'dgm1_32322_5726_2_nw.xyz',\n",
       " 'dgm1_32322_5728_2_nw.xyz',\n",
       " 'dgm1_32322_5730_2_nw.xyz',\n",
       " 'dgm1_32322_5732_2_nw.xyz',\n",
       " 'dgm1_32322_5734_2_nw.xyz',\n",
       " 'dgm1_32324_5720_2_nw.xyz',\n",
       " 'dgm1_32324_5722_2_nw.xyz',\n",
       " 'dgm1_32324_5724_2_nw.xyz',\n",
       " 'dgm1_32324_5726_2_nw.xyz',\n",
       " 'dgm1_32324_5728_2_nw.xyz',\n",
       " 'dgm1_32324_5730_2_nw.xyz',\n",
       " 'dgm1_32326_5720_2_nw.xyz',\n",
       " 'dgm1_32326_5722_2_nw.xyz',\n",
       " 'dgm1_32326_5724_2_nw.xyz',\n",
       " 'dgm1_32326_5726_2_nw.xyz',\n",
       " 'dgm1_32328_5722_2_nw.xyz']"
      ]
     },
     "execution_count": 16,
     "metadata": {},
     "output_type": "execute_result"
    }
   ],
   "source": [
    "os.listdir(dtm_xyz_dir)"
   ]
  },
  {
   "cell_type": "markdown",
   "metadata": {},
   "source": [
    "### Create a list with all xyz-file names"
   ]
  },
  {
   "cell_type": "code",
   "execution_count": 17,
   "metadata": {},
   "outputs": [
    {
     "data": {
      "text/plain": [
       "['dgm1_32316_5730_2_nw.xyz',\n",
       " 'dgm1_32318_5724_2_nw.xyz',\n",
       " 'dgm1_32318_5726_2_nw.xyz',\n",
       " 'dgm1_32318_5728_2_nw.xyz',\n",
       " 'dgm1_32318_5730_2_nw.xyz',\n",
       " 'dgm1_32318_5732_2_nw.xyz',\n",
       " 'dgm1_32318_5734_2_nw.xyz',\n",
       " 'dgm1_32320_5722_2_nw.xyz',\n",
       " 'dgm1_32320_5724_2_nw.xyz',\n",
       " 'dgm1_32320_5726_2_nw.xyz',\n",
       " 'dgm1_32320_5728_2_nw.xyz',\n",
       " 'dgm1_32320_5730_2_nw.xyz',\n",
       " 'dgm1_32320_5732_2_nw.xyz',\n",
       " 'dgm1_32320_5734_2_nw.xyz',\n",
       " 'dgm1_32320_5736_2_nw.xyz',\n",
       " 'dgm1_32322_5722_2_nw.xyz',\n",
       " 'dgm1_32322_5724_2_nw.xyz',\n",
       " 'dgm1_32322_5726_2_nw.xyz',\n",
       " 'dgm1_32322_5728_2_nw.xyz',\n",
       " 'dgm1_32322_5730_2_nw.xyz',\n",
       " 'dgm1_32322_5732_2_nw.xyz',\n",
       " 'dgm1_32322_5734_2_nw.xyz',\n",
       " 'dgm1_32324_5720_2_nw.xyz',\n",
       " 'dgm1_32324_5722_2_nw.xyz',\n",
       " 'dgm1_32324_5724_2_nw.xyz',\n",
       " 'dgm1_32324_5726_2_nw.xyz',\n",
       " 'dgm1_32324_5728_2_nw.xyz',\n",
       " 'dgm1_32324_5730_2_nw.xyz',\n",
       " 'dgm1_32326_5720_2_nw.xyz',\n",
       " 'dgm1_32326_5722_2_nw.xyz',\n",
       " 'dgm1_32326_5724_2_nw.xyz',\n",
       " 'dgm1_32326_5726_2_nw.xyz',\n",
       " 'dgm1_32328_5722_2_nw.xyz']"
      ]
     },
     "execution_count": 17,
     "metadata": {},
     "output_type": "execute_result"
    }
   ],
   "source": [
    "fnamelist = []\n",
    "for fname in os.listdir(dtm_xyz_dir):\n",
    "    if fname.endswith(\".xyz\"):\n",
    "        fnamelist.append(fname)\n",
    "\n",
    "fnamelist"
   ]
  },
  {
   "cell_type": "markdown",
   "metadata": {},
   "source": [
    "### Define a function which evaluates first and last row to get the bounding box"
   ]
  },
  {
   "cell_type": "code",
   "execution_count": 18,
   "metadata": {},
   "outputs": [],
   "source": [
    "def getBB (fname, pixelsize):\n",
    "    with open(fname, 'rb') as fh:\n",
    "        first = next(fh)\n",
    "        offs = -100\n",
    "        while True:\n",
    "            fh.seek(offs, 2)\n",
    "            lines = fh.readlines()\n",
    "            if len(lines)>1:\n",
    "                last = lines[-1]\n",
    "                break\n",
    "            offs *= 2\n",
    "        print(\"first: \", first)\n",
    "        print (\"last: \", last)\n",
    "\n",
    "        [left, bottom, z_ws] = list(map(float, first.split()))\n",
    "        [right, top, z_en] = list(map(float, last.split()))\n",
    "        left, right, bottom, top = left - pixelsize/2., right + pixelsize/2., bottom - pixelsize/2., top + pixelsize/2.\n",
    "\n",
    "        return [left, right, bottom, top] "
   ]
  },
  {
   "cell_type": "markdown",
   "metadata": {},
   "source": [
    "### Create a shape file the rectangular bounding boxes of the xyz files\n",
    "\n",
    "The basis of the following feature generation is the OGC Simple Feature Model.\n",
    "\n",
    "<img src=\"https://docs.qgis.org/2.14/en/_images/ogc_sfs.png\">"
   ]
  },
  {
   "cell_type": "code",
   "execution_count": 19,
   "metadata": {},
   "outputs": [
    {
     "name": "stdout",
     "output_type": "stream",
     "text": [
      "Output File:  ../data/derived/DTM_Xanten/dgm1_Xanten_BB_coverage.shp\n",
      "first:  b'32316000.00 5730000.00   21.44\\n'\n",
      "last:  b'32317999.00 5731999.00   16.98\\n'\n",
      "first:  b'32318000.00 5724000.00   67.39\\n'\n",
      "last:  b'32319999.00 5725999.00   25.46\\n'\n",
      "first:  b'32318000.00 5726000.00   29.25\\n'\n",
      "last:  b'32319999.00 5727999.00   20.53\\n'\n",
      "first:  b'32318000.00 5728000.00   64.43\\n'\n",
      "last:  b'32319999.00 5729999.00   17.28\\n'\n",
      "first:  b'32318000.00 5730000.00   37.85\\n'\n",
      "last:  b'32319999.00 5731999.00   20.85\\n'\n",
      "first:  b'32318000.00 5732000.00   17.01\\n'\n",
      "last:  b'32319999.00 5733999.00   17.08\\n'\n",
      "first:  b'32318000.00 5734000.00   17.78\\n'\n",
      "last:  b'32319999.00 5735999.00   14.71\\n'\n",
      "first:  b'32320000.00 5722000.00   51.74\\n'\n",
      "last:  b'32321999.00 5723999.00   24.39\\n'\n",
      "first:  b'32320000.00 5724000.00   21.56\\n'\n",
      "last:  b'32321999.00 5725999.00   21.77\\n'\n",
      "first:  b'32320000.00 5726000.00   25.51\\n'\n",
      "last:  b'32321999.00 5727999.00   21.07\\n'\n",
      "first:  b'32320000.00 5728000.00   20.34\\n'\n",
      "last:  b'32321999.00 5729999.00   14.85\\n'\n",
      "first:  b'32320000.00 5730000.00   17.42\\n'\n",
      "last:  b'32321999.00 5731999.00   14.27\\n'\n",
      "first:  b'32320000.00 5732000.00   19.71\\n'\n",
      "last:  b'32321999.00 5733999.00   15.66\\n'\n",
      "first:  b'32320000.00 5734000.00   17.10\\n'\n",
      "last:  b'32321999.00 5735999.00   13.96\\n'\n",
      "first:  b'32320000.00 5736000.00   14.67\\n'\n",
      "last:  b'32321999.00 5737999.00   16.99\\n'\n",
      "first:  b'32322000.00 5722000.00   22.17\\n'\n",
      "last:  b'32323999.00 5723999.00   41.41\\n'\n",
      "first:  b'32322000.00 5724000.00   24.11\\n'\n",
      "last:  b'32323999.00 5725999.00   24.72\\n'\n",
      "first:  b'32322000.00 5726000.00   21.77\\n'\n",
      "last:  b'32323999.00 5727999.00   19.24\\n'\n",
      "first:  b'32322000.00 5728000.00   20.99\\n'\n",
      "last:  b'32323999.00 5729999.00   16.72\\n'\n",
      "first:  b'32322000.00 5730000.00   14.83\\n'\n",
      "last:  b'32323999.00 5731999.00   13.80\\n'\n",
      "first:  b'32322000.00 5732000.00   14.25\\n'\n",
      "last:  b'32323999.00 5733999.00   17.02\\n'\n",
      "first:  b'32322000.00 5734000.00   15.67\\n'\n",
      "last:  b'32323999.00 5735999.00   14.39\\n'\n",
      "first:  b'32324000.00 5720000.00   23.75\\n'\n",
      "last:  b'32325999.00 5721999.00   22.24\\n'\n",
      "first:  b'32324000.00 5722000.00   22.65\\n'\n",
      "last:  b'32325999.00 5723999.00   15.88\\n'\n",
      "first:  b'32324000.00 5724000.00   41.36\\n'\n",
      "last:  b'32325999.00 5725999.00   16.66\\n'\n",
      "first:  b'32324000.00 5726000.00   24.73\\n'\n",
      "last:  b'32325999.00 5727999.00   14.88\\n'\n",
      "first:  b'32324000.00 5728000.00   19.22\\n'\n",
      "last:  b'32325999.00 5729999.00   19.62\\n'\n",
      "first:  b'32324000.00 5730000.00   16.69\\n'\n",
      "last:  b'32325999.00 5731999.00   15.38\\n'\n",
      "first:  b'32326000.00 5720000.00   24.73\\n'\n",
      "last:  b'32327999.00 5721999.00   17.96\\n'\n",
      "first:  b'32326000.00 5722000.00   22.25\\n'\n",
      "last:  b'32327999.00 5723999.00   16.92\\n'\n",
      "first:  b'32326000.00 5724000.00   15.87\\n'\n",
      "last:  b'32327999.00 5725999.00   19.23\\n'\n",
      "first:  b'32326000.00 5726000.00   16.67\\n'\n",
      "last:  b'32327999.00 5727999.00   19.00\\n'\n",
      "first:  b'32328000.00 5722000.00   17.96\\n'\n",
      "last:  b'32329999.00 5723999.00   21.08\\n'\n"
     ]
    }
   ],
   "source": [
    "# get the driver\n",
    "driver = ogr.GetDriverByName('ESRI Shapefile')\n",
    "# create a new data source and layer\n",
    "\n",
    "#pathname = myDestDataDir + r'/dgm1_Xanten_BB_coverage.shp'\n",
    "\n",
    "pathfilename = dest_dir + dest_shapefile_name\n",
    "\n",
    "print(\"Output File: \", pathfilename)\n",
    "\n",
    "if os.path.exists(pathfilename):\n",
    "    driver.DeleteDataSource(pathfilename)\n",
    "\n",
    "ds = driver.CreateDataSource(pathfilename)\n",
    "\n",
    "if ds is None:\n",
    "    print('Could not create file')\n",
    "    sys.exit(1)\n",
    "\n",
    "\n",
    "#~ src_srs = txt2srs('EPSG:4647')\n",
    "#src_srs= txt2srs('+proj=tmerc +lat_0=0 +lon_0=9 +k=0.9996 +x_0=32500000 +y_0=0 +ellps=GRS80 +towgs84=0,0,0,0,0,0,0 +units=m +no_defs')    \n",
    "\n",
    "epsg = 4647\n",
    "srs1 = osr.SpatialReference()\n",
    "srs1.ImportFromEPSG(epsg)\n",
    "\n",
    "#layer_name = 'test'\n",
    "#layer_name = layer_name.encode('utf-8')\n",
    "#layer = ds.CreateLayer(layer_name, srs, ogr.wkbPolygon)\n",
    "\n",
    "layer = ds.CreateLayer('test', geom_type=ogr.wkbPolygon, srs=srs1)\n",
    "#layer = ds.CreateLayer('test', geom_type=ogr.wkbPolygon)\n",
    "\n",
    "fieldDefnID = ogr.FieldDefn('id', ogr.OFTInteger)\n",
    "fieldDefnFName = ogr.FieldDefn('fname', ogr.OFTString)\n",
    "\n",
    "res = layer.CreateField(fieldDefnID)\n",
    "res =layer.CreateField(fieldDefnFName)\n",
    "\n",
    "\n",
    "# get the FeatureDefn for the output layer\n",
    "featureDefn = layer.GetLayerDefn()\n",
    "\n",
    "# ID\n",
    "i=0\n",
    "\n",
    "pixelsize = 1\n",
    "\n",
    "for fname in fnamelist:\n",
    "    [x0, x1, y0, y1] = getBB(dtm_xyz_dir+fname, pixelsize)\n",
    "    #print(x0, x1, y0, y1)\n",
    "    ring = ogr.Geometry(ogr.wkbLinearRing)\n",
    "    ring.AddPoint(x0,y0)\n",
    "    ring.AddPoint(x1,y0)\n",
    "    ring.AddPoint(x1,y1)\n",
    "    ring.AddPoint(x0,y1)\n",
    "    ring.AddPoint(x0,y0)\n",
    "    #ring.CloseRings() # or ring.AddPoint(0,0)\n",
    "    \n",
    "    polygon = ogr.Geometry(ogr.wkbPolygon)\n",
    "    polygon.AddGeometry(ring)\n",
    "    \n",
    "    feature = ogr.Feature(featureDefn)\n",
    "    feature.SetGeometry(polygon)\n",
    "\n",
    "    i+=1\n",
    "    feature.SetField('id', i)\n",
    "    feature.SetField('fname', fname)\n",
    "    # add the feature to the output layer\n",
    "    layer.CreateFeature(feature)\n",
    "    \n",
    "    #ring.Destroy()\n",
    "    #polygon.Destroy()\n",
    "    #feature.Destroy()\n",
    "\n",
    "ds.Destroy()\n"
   ]
  },
  {
   "cell_type": "markdown",
   "metadata": {},
   "source": [
    "### Add the four filenames touching the GPS path in Hees and on Fürstenberg to the list."
   ]
  },
  {
   "cell_type": "code",
   "execution_count": null,
   "metadata": {},
   "outputs": [],
   "source": [
    "# The files the GPS track is intersecting with\n",
    "hees_dtm_list=[\"dgm1_...xyz\",\"dgm1_....xyz\",\"dgm1_....xyz\",\"dgm1_....xyz\"]"
   ]
  },
  {
   "cell_type": "markdown",
   "metadata": {},
   "source": [
    "The following example is derived from here:  \n",
    "https://gis.stackexchange.com/questions/58517/python-gdal-save-array-as-raster-with-projection-from-other-fil  \n",
    "and here:\n",
    "https://gis.stackexchange.com/questions/177061/ascii-file-with-latitude-longitude-and-data-to-geotiff-using-python\n"
   ]
  },
  {
   "cell_type": "code",
   "execution_count": null,
   "metadata": {},
   "outputs": [],
   "source": [
    "def CreateGeoTiff(Name, Array, driver, \n",
    "                  xnum, ynum, GeoT):\n",
    "    DataType = gdal.GDT_Float32\n",
    "    NewFileName = Name+'.tif'\n",
    "    \n",
    "    srs = osr.SpatialReference()\n",
    "    srs.ImportFromEPSG(4647)\n",
    "    # Set up the dataset\n",
    "    DataSet = driver.Create( NewFileName, xnum, ynum, 1, DataType )\n",
    "            # the '1' is for band 1.\n",
    "    DataSet.SetGeoTransform(GeoT)\n",
    "    DataSet.SetProjection(srs.ExportToWkt())\n",
    "\n",
    "    # Write the array\n",
    "    DataSet.GetRasterBand(1).WriteArray( Array )\n",
    "    return NewFileName"
   ]
  },
  {
   "cell_type": "code",
   "execution_count": null,
   "metadata": {},
   "outputs": [],
   "source": [
    "\n",
    "for source in hees_dtm_list:\n",
    "    base=os.path.basename(source)\n",
    "    name = os.path.splitext(base)[0]\n",
    "    print(name)"
   ]
  },
  {
   "cell_type": "code",
   "execution_count": null,
   "metadata": {},
   "outputs": [],
   "source": [
    "hees_dtm_list"
   ]
  },
  {
   "cell_type": "code",
   "execution_count": null,
   "metadata": {},
   "outputs": [],
   "source": [
    "import pandas as pd\n",
    "from os.path import basename\n",
    "\n",
    "xnum, ynum = 2000, 2000\n",
    "xsize, ysize = 1,1\n",
    "driver = gdal.GetDriverByName('GTiff')\n",
    "\n",
    "\n",
    "for source in hees_dtm_list:\n",
    "    print(\"read \" + source)\n",
    "    df=pd.read_csv(dtm_xyz_dir + source,header=None,delim_whitespace=True,names=[\"x\",\"y\",\"z\"])\n",
    "    xmin, xmax = min(df.x), max(df.x)\n",
    "    ymin, ymax = min(df.y), max(df.y)\n",
    "    zmin, zmax = min(df.z), max(df.z)\n",
    "    GeoTNew=[xmin, xsize, 0, ymax, 0, -ysize] # WHY IS IT LIKE THIS ?????? WHAT DOES IT DO ?????\n",
    "    \n",
    "    z=(df.z).values.reshape(ynum,xnum)\n",
    "    z=np.rot90(z) # If we do not rotate the 2000x2000 pixel array the final result is rotated!\n",
    "\n",
    "    base=os.path.basename(source)\n",
    "    name = os.path.splitext(base)[0]\n",
    "    \n",
    "    print(\"write \" + name + \".tif\")    \n",
    "    NewFileName = CreateGeoTiff(dest_geotiff_dir + name, z, driver, xnum, ynum, GeoTNew)\n",
    "    "
   ]
  },
  {
   "cell_type": "code",
   "execution_count": null,
   "metadata": {},
   "outputs": [],
   "source": []
  }
 ],
 "metadata": {
  "kernelspec": {
   "display_name": "Python 3",
   "language": "python",
   "name": "python3"
  },
  "language_info": {
   "codemirror_mode": {
    "name": "ipython",
    "version": 3
   },
   "file_extension": ".py",
   "mimetype": "text/x-python",
   "name": "python",
   "nbconvert_exporter": "python",
   "pygments_lexer": "ipython3",
   "version": "3.8.5"
  }
 },
 "nbformat": 4,
 "nbformat_minor": 4
}
